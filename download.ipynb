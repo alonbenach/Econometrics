{
 "cells": [
  {
   "cell_type": "code",
   "execution_count": null,
   "metadata": {},
   "outputs": [],
   "source": [
    "import pandas as pd\n",
    "\n",
    "from src.morizon import config , tools \n",
    "from src import common"
   ]
  },
  {
   "cell_type": "code",
   "execution_count": null,
   "metadata": {
    "scrolled": false
   },
   "outputs": [],
   "source": [
    "database = []\n",
    "for district in ('bemowo', 'wola', 'wlochy', 'ursus', 'ochota', 'bielany', 'żoliborz', 'śródmieście', 'mokotów', 'wilanów', 'ursynów', 'białołęka', 'targówek', 'praga-południe', 'praga-północ', 'rembertów', 'wesoła', 'wawer'):\n",
    "    print(district.upper())\n",
    "    for page in range(1, 5):\n",
    "        print(f'PAGE {page}')\n",
    "        hits = tools.create_database(config.SEARCH_URL.format(district=district, page=page))\n",
    "        hits['district'] = district\n",
    "        hits['page'] = 'morizon'\n",
    "        database.append(hits)\n"
   ]
  },
  {
   "cell_type": "code",
   "execution_count": null,
   "metadata": {},
   "outputs": [],
   "source": [
    "database = pd.concat(database)"
   ]
  },
  {
   "cell_type": "code",
   "execution_count": null,
   "metadata": {},
   "outputs": [],
   "source": [
    "# remove duplicated listings but retain the cheaper option\n",
    "database = common.deduplicate(database)"
   ]
  },
  {
   "cell_type": "code",
   "execution_count": null,
   "metadata": {},
   "outputs": [],
   "source": [
    "database.info()\n",
    "database.head()"
   ]
  },
  {
   "cell_type": "code",
   "execution_count": null,
   "metadata": {},
   "outputs": [],
   "source": [
    "database.to_excel(excel_writer = 'database\\database.xlsx', sheet_name='Sheet1', na_rep='NaN', float_format='%.8f')"
   ]
  }
 ],
 "metadata": {
  "kernelspec": {
   "display_name": "Python 3",
   "language": "python",
   "name": "python3"
  },
  "language_info": {
   "codemirror_mode": {
    "name": "ipython",
    "version": 3
   },
   "file_extension": ".py",
   "mimetype": "text/x-python",
   "name": "python",
   "nbconvert_exporter": "python",
   "pygments_lexer": "ipython3",
   "version": "3.11.2"
  }
 },
 "nbformat": 4,
 "nbformat_minor": 2
}
